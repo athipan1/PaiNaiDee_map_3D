{
 "cells": [
  {
   "cell_type": "markdown",
   "metadata": {},
   "source": [
    "# 🧪 ทดลอง API ทั้งหมดของ PaiNaiDee 3D Map\n",
    "# 🧪 Testing All APIs for PaiNaiDee 3D Map\n",
    "\n",
    "โน้ตบุ๊คนี้ใช้สำหรับทดสอบ API endpoints ทั้งหมดของแอปพลิเคชัน PaiNaiDee 3D Map  \n",
    "This notebook is used to test all API endpoints of the PaiNaiDee 3D Map application.\n",
    "\n",
    "## 📋 API Endpoints ที่ทดสอบ / Tested Endpoints\n",
    "\n",
    "- ✅ `/api/talk` - Chat/conversation API\n",
    "- ✅ `/api/attractions` - Get all attractions\n",
    "- ✅ `/api/attractions/<id>` - Get specific attraction\n",
    "- ✅ `/api/videos` - Get videos\n",
    "- ✅ `/api/videos/upload` - Upload videos\n",
    "- ✅ `/api/locations` - Get locations data\n",
    "- ✅ `/api/weather` - Weather information\n",
    "- ✅ `/api/search` - Search functionality"
   ]
  },
  {
   "cell_type": "markdown",
   "metadata": {},
   "source": [
    "## 🔧 Setup และการติดตั้ง / Setup and Installation\n",
    "\n",
    "ติดตั้ง dependencies ที่จำเป็น / Install required dependencies:"
   ]
  },
  {
   "cell_type": "code",
   "execution_count": null,
   "metadata": {},
   "outputs": [],
   "source": [
    "# ติดตั้ง dependencies / Install dependencies\n",
    "!pip install -r requirements.txt\n",
    "\n",
    "# หรือติดตั้งแบบ manual / Or install manually\n",
    "!pip install requests json pandas matplotlib seaborn"
   ]
  },
  {
   "cell_type": "code",
   "execution_count": null,
   "metadata": {},
   "outputs": [],
   "source": [
    "import requests\n",
    "import json\n",
    "import pandas as pd\n",
    "import matplotlib.pyplot as plt\n",
    "from datetime import datetime\n",
    "import time"
   ]
  },
  {
   "cell_type": "markdown",
   "metadata": {},
   "source": [
    "## ⚙️ Configuration การตั้งค่า\n",
    "\n",
    "กำหนด URL ของ API endpoint (ใส่ URL ของ Vercel deployment ของคุณ) /  \n",
    "Set your API endpoint URL (enter your Vercel deployment URL):"
   ]
  },
  {
   "cell_type": "code",
   "execution_count": null,
   "metadata": {},
   "outputs": [],
   "source": [
    "# กำหนด Base URL สำหรับ API / Set Base URL for API\n",
    "# แทนที่ด้วย URL จริงของ deployment ของคุณ / Replace with your actual deployment URL\n",
    "BASE_URL = \"https://your-app-name.vercel.app\"  # เปลี่ยนเป็น URL จริงของคุณ\n",
    "\n",
    "# Headers สำหรับ API requests / Headers for API requests\n",
    "HEADERS = {\n",
    "    'Content-Type': 'application/json',\n",
    "    'User-Agent': 'PaiNaiDee-Test-Client/1.0'\n",
    "}\n",
    "\n",
    "print(f\"🌐 API Base URL: {BASE_URL}\")\n",
    "print(f\"📋 Headers: {HEADERS}\")"
   ]
  },
  {
   "cell_type": "markdown",
   "metadata": {},
   "source": [
    "## 🛠️ Helper Functions ฟังก์ชันช่วย\n",
    "\n",
    "ฟังก์ชันสำหรับเรียก API และจัดการผลลัพธ์ / Functions for calling APIs and handling results:"
   ]
  },
  {
   "cell_type": "code",
   "execution_count": null,
   "metadata": {},
   "outputs": [],
   "source": [
    "def call_api(method, url, payload=None, headers=None):\n",
    "    \"\"\"\n",
    "    Helper function to call API endpoints\n",
    "    ฟังก์ชันช่วยสำหรับเรียก API endpoints\n",
    "    \n",
    "    Args:\n",
    "        method (str): HTTP method (GET, POST, PUT, DELETE)\n",
    "        url (str): Full URL or endpoint path\n",
    "        payload (dict): Request payload for POST/PUT requests\n",
    "        headers (dict): Additional headers\n",
    "    \n",
    "    Returns:\n",
    "        dict: API response data\n",
    "    \"\"\"\n",
    "    if not url.startswith('http'):\n",
    "        url = f\"{BASE_URL}{url}\"\n",
    "    \n",
    "    if headers is None:\n",
    "        headers = HEADERS\n",
    "    \n",
    "    print(f\"\\n🔄 {method} {url}\")\n",
    "    \n",
    "    try:\n",
    "        start_time = time.time()\n",
    "        \n",
    "        if method.upper() == 'GET':\n",
    "            response = requests.get(url, headers=headers, timeout=30)\n",
    "        elif method.upper() == 'POST':\n",
    "            response = requests.post(url, json=payload, headers=headers, timeout=30)\n",
    "        elif method.upper() == 'PUT':\n",
    "            response = requests.put(url, json=payload, headers=headers, timeout=30)\n",
    "        elif method.upper() == 'DELETE':\n",
    "            response = requests.delete(url, headers=headers, timeout=30)\n",
    "        else:\n",
    "            raise ValueError(f\"Unsupported HTTP method: {method}\")\n",
    "        \n",
    "        response_time = time.time() - start_time\n",
    "        \n",
    "        print(f\"⏱️  Response Time: {response_time:.2f}s\")\n",
    "        print(f\"📊 Status Code: {response.status_code}\")\n",
    "        \n",
    "        if response.status_code == 200:\n",
    "            print(\"✅ Success!\")\n",
    "            return response.json()\n",
    "        else:\n",
    "            print(f\"❌ Error: {response.status_code}\")\n",
    "            print(f\"📝 Response: {response.text}\")\n",
    "            return None\n",
    "            \n",
    "    except requests.exceptions.RequestException as e:\n",
    "        print(f\"🚨 Request Error: {str(e)}\")\n",
    "        return None\n",
    "    except Exception as e:\n",
    "        print(f\"🚨 Unexpected Error: {str(e)}\")\n",
    "        return None\n",
    "\n",
    "def pretty_print_json(data, title=\"API Response\"):\n",
    "    \"\"\"\n",
    "    Pretty print JSON data\n",
    "    แสดงข้อมูล JSON อย่างสวยงาม\n",
    "    \"\"\"\n",
    "    print(f\"\\n📋 {title}:\")\n",
    "    print(\"=\" * 50)\n",
    "    if data:\n",
    "        print(json.dumps(data, indent=2, ensure_ascii=False))\n",
    "    else:\n",
    "        print(\"No data returned\")\n",
    "    print(\"=\" * 50)"
   ]
  },
  {
   "cell_type": "markdown",
   "metadata": {},
   "source": [
    "## 🗣️ Test Chat API - `/api/talk`\n",
    "\n",
    "ทดสอบ API สำหรับการสนทนาและถาม-ตอบ / Test the chat/conversation API:"
   ]
  },
  {
   "cell_type": "code",
   "execution_count": null,
   "metadata": {},
   "outputs": [],
   "source": [
    "# ทดสอบ Chat API / Test Chat API\n",
    "chat_payload = {\n",
    "    \"message\": \"สวัสดี แนะนำสถานที่ท่องเที่ยวในกรุงเทพฯ หน่อย\",\n",
    "    \"language\": \"th\",\n",
    "    \"context\": \"tourism\"\n",
    "}\n",
    "\n",
    "chat_response = call_api(\"POST\", \"/api/talk\", chat_payload)\n",
    "pretty_print_json(chat_response, \"Chat API Response\")"
   ]
  },
  {
   "cell_type": "code",
   "execution_count": null,
   "metadata": {},
   "outputs": [],
   "source": [
    "# ทดสอบภาษาอังกฤษ / Test in English\n",
    "chat_payload_en = {\n",
    "    \"message\": \"Hello, can you recommend tourist attractions in Bangkok?\",\n",
    "    \"language\": \"en\",\n",
    "    \"context\": \"tourism\"\n",
    "}\n",
    "\n",
    "chat_response_en = call_api(\"POST\", \"/api/talk\", chat_payload_en)\n",
    "pretty_print_json(chat_response_en, \"Chat API Response (English)\")"
   ]
  },
  {
   "cell_type": "markdown",
   "metadata": {},
   "source": [
    "## 🏛️ Test Attractions API - `/api/attractions`\n",
    "\n",
    "ทดสอบ API สำหรับข้อมูลสถานที่ท่องเที่ยว / Test the attractions API:"
   ]
  },
  {
   "cell_type": "code",
   "execution_count": null,
   "metadata": {},
   "outputs": [],
   "source": [
    "# ดึงข้อมูลสถานที่ท่องเที่ยวทั้งหมด / Get all attractions\n",
    "attractions_response = call_api(\"GET\", \"/api/attractions\")\n",
    "pretty_print_json(attractions_response, \"All Attractions\")\n",
    "\n",
    "# แสดงจำนวนสถานที่ / Show count\n",
    "if attractions_response and 'data' in attractions_response:\n",
    "    print(f\"\\n📊 Total Attractions: {len(attractions_response['data'])}\")"
   ]
  },
  {
   "cell_type": "code",
   "execution_count": null,
   "metadata": {},
   "outputs": [],
   "source": [
    "# ทดสอบการดึงข้อมูลสถานที่เฉพาะ / Test specific attraction\n",
    "attraction_id = \"bangkok_grand_palace\"  # เปลี่ยนเป็น ID ที่มีอยู่จริง\n",
    "\n",
    "specific_attraction = call_api(\"GET\", f\"/api/attractions/{attraction_id}\")\n",
    "pretty_print_json(specific_attraction, f\"Attraction: {attraction_id}\")"
   ]
  },
  {
   "cell_type": "markdown",
   "metadata": {},
   "source": [
    "## 📹 Test Videos API - `/api/videos`\n",
    "\n",
    "ทดสอบ API สำหรับวิดีโอและการอัปโหลด / Test the videos API and upload functionality:"
   ]
  },
  {
   "cell_type": "code",
   "execution_count": null,
   "metadata": {},
   "outputs": [],
   "source": [
    "# ดึงข้อมูลวิดีโอทั้งหมด / Get all videos\n",
    "videos_response = call_api(\"GET\", \"/api/videos\")\n",
    "pretty_print_json(videos_response, \"All Videos\")\n",
    "\n",
    "# แสดงจำนวนวิดีโอ / Show video count\n",
    "if videos_response and 'data' in videos_response:\n",
    "    print(f\"\\n📊 Total Videos: {len(videos_response['data'])}\")"
   ]
  },
  {
   "cell_type": "code",
   "execution_count": null,
   "metadata": {},
   "outputs": [],
   "source": [
    "# ทดสอบการอัปโหลดวิดีโอ / Test video upload\n",
    "upload_payload = {\n",
    "    \"title\": \"Bangkok Travel Guide\",\n",
    "    \"description\": \"A comprehensive guide to visiting Bangkok\",\n",
    "    \"category\": \"travel_guide\",\n",
    "    \"location\": \"bangkok\",\n",
    "    \"tags\": [\"bangkok\", \"travel\", \"thailand\", \"tourism\"]\n",
    "}\n",
    "\n",
    "upload_response = call_api(\"POST\", \"/api/videos/upload\", upload_payload)\n",
    "pretty_print_json(upload_response, \"Video Upload Response\")"
   ]
  },
  {
   "cell_type": "markdown",
   "metadata": {},
   "source": [
    "## 📍 Test Additional APIs\n",
    "\n",
    "ทดสอบ API อื่นๆ ที่เกี่ยวข้อง / Test other related APIs:"
   ]
  },
  {
   "cell_type": "code",
   "execution_count": null,
   "metadata": {},
   "outputs": [],
   "source": [
    "# ทดสอบ Locations API / Test Locations API\n",
    "locations_response = call_api(\"GET\", \"/api/locations\")\n",
    "pretty_print_json(locations_response, \"Locations Data\")"
   ]
  },
  {
   "cell_type": "code",
   "execution_count": null,
   "metadata": {},
   "outputs": [],
   "source": [
    "# ทดสอบ Weather API / Test Weather API\n",
    "weather_payload = {\n",
    "    \"location\": \"bangkok\",\n",
    "    \"unit\": \"celsius\"\n",
    "}\n",
    "\n",
    "weather_response = call_api(\"POST\", \"/api/weather\", weather_payload)\n",
    "pretty_print_json(weather_response, \"Weather Information\")"
   ]
  },
  {
   "cell_type": "code",
   "execution_count": null,
   "metadata": {},
   "outputs": [],
   "source": [
    "# ทดสอบ Search API / Test Search API\n",
    "search_payload = {\n",
    "    \"query\": \"วัด\",\n",
    "    \"category\": \"temple\",\n",
    "    \"limit\": 10\n",
    "}\n",
    "\n",
    "search_response = call_api(\"POST\", \"/api/search\", search_payload)\n",
    "pretty_print_json(search_response, \"Search Results\")"
   ]
  },
  {
   "cell_type": "markdown",
   "metadata": {},
   "source": [
    "## 📊 Performance Analysis การวิเคราะห์ประสิทธิภาพ\n",
    "\n",
    "วิเคราะห์ประสิทธิภาพของ API calls / Analyze API performance:"
   ]
  },
  {
   "cell_type": "code",
   "execution_count": null,
   "metadata": {},
   "outputs": [],
   "source": [
    "# สร้างรายงานประสิทธิภาพ / Create performance report\n",
    "test_endpoints = [\n",
    "    (\"/api/attractions\", \"GET\"),\n",
    "    (\"/api/videos\", \"GET\"),\n",
    "    (\"/api/locations\", \"GET\")\n",
    "]\n",
    "\n",
    "performance_data = []\n",
    "\n",
    "print(\"🔍 Running Performance Tests...\")\n",
    "print(\"=\" * 50)\n",
    "\n",
    "for endpoint, method in test_endpoints:\n",
    "    print(f\"\\n🚀 Testing {method} {endpoint}\")\n",
    "    \n",
    "    # ทดสอบ 3 รอบ / Test 3 times\n",
    "    times = []\n",
    "    for i in range(3):\n",
    "        start_time = time.time()\n",
    "        response = call_api(method, endpoint)\n",
    "        end_time = time.time()\n",
    "        \n",
    "        response_time = end_time - start_time\n",
    "        times.append(response_time)\n",
    "        \n",
    "        print(f\"  Round {i+1}: {response_time:.2f}s\")\n",
    "    \n",
    "    avg_time = sum(times) / len(times)\n",
    "    performance_data.append({\n",
    "        'endpoint': endpoint,\n",
    "        'method': method,\n",
    "        'avg_time': avg_time,\n",
    "        'min_time': min(times),\n",
    "        'max_time': max(times)\n",
    "    })\n",
    "    \n",
    "    print(f\"  📊 Average: {avg_time:.2f}s\")\n",
    "\n",
    "# สร้าง DataFrame / Create DataFrame\n",
    "df_performance = pd.DataFrame(performance_data)\n",
    "print(\"\\n📈 Performance Summary:\")\n",
    "print(df_performance)"
   ]
  },
  {
   "cell_type": "code",
   "execution_count": null,
   "metadata": {},
   "outputs": [],
   "source": [
    "# สร้างกราฟประสิทธิภาพ / Create performance chart\n",
    "plt.figure(figsize=(12, 6))\n",
    "\n",
    "# แผนภูมิเวลาตอบสนองเฉลี่ย / Average response time chart\n",
    "plt.subplot(1, 2, 1)\n",
    "plt.bar(range(len(df_performance)), df_performance['avg_time'])\n",
    "plt.title('Average Response Time by Endpoint')\n",
    "plt.xlabel('API Endpoints')\n",
    "plt.ylabel('Response Time (seconds)')\n",
    "plt.xticks(range(len(df_performance)), \n",
    "           [f\"{row['method']}\\n{row['endpoint']}\" for _, row in df_performance.iterrows()], \n",
    "           rotation=45)\n",
    "\n",
    "# แผนภูมิช่วงเวลา / Time range chart\n",
    "plt.subplot(1, 2, 2)\n",
    "x = range(len(df_performance))\n",
    "plt.plot(x, df_performance['min_time'], 'g-', label='Min Time', marker='o')\n",
    "plt.plot(x, df_performance['avg_time'], 'b-', label='Avg Time', marker='s')\n",
    "plt.plot(x, df_performance['max_time'], 'r-', label='Max Time', marker='^')\n",
    "plt.title('Response Time Range by Endpoint')\n",
    "plt.xlabel('API Endpoints')\n",
    "plt.ylabel('Response Time (seconds)')\n",
    "plt.legend()\n",
    "plt.xticks(x, [f\"{row['method']}\\n{row['endpoint']}\" for _, row in df_performance.iterrows()], \n",
    "           rotation=45)\n",
    "\n",
    "plt.tight_layout()\n",
    "plt.show()\n",
    "\n",
    "print(\"\\n✅ Performance testing completed!\")\n",
    "print(\"📊 Charts displayed above show response time analysis\")"
   ]
  },
  {
   "cell_type": "markdown",
   "metadata": {},
   "source": [
    "## 📝 Test Summary สรุปผลการทดสอบ\n",
    "\n",
    "สรุปผลการทดสอบ API ทั้งหมด / Summary of all API tests:"
   ]
  },
  {
   "cell_type": "code",
   "execution_count": null,
   "metadata": {},
   "outputs": [],
   "source": [
    "# สรุปผลการทดสอบ / Test summary\n",
    "print(\"🎯 API Testing Summary\")\n",
    "print(\"=\" * 50)\n",
    "print(f\"📅 Test Date: {datetime.now().strftime('%Y-%m-%d %H:%M:%S')}\")\n",
    "print(f\"🌐 Base URL: {BASE_URL}\")\n",
    "print(\"\\n📋 Tested Endpoints:\")\n",
    "\n",
    "test_results = [\n",
    "    (\"POST /api/talk\", \"Chat/Conversation API\"),\n",
    "    (\"GET /api/attractions\", \"All attractions data\"),\n",
    "    (\"GET /api/attractions/<id>\", \"Specific attraction\"),\n",
    "    (\"GET /api/videos\", \"All videos data\"),\n",
    "    (\"POST /api/videos/upload\", \"Video upload\"),\n",
    "    (\"GET /api/locations\", \"Location data\"),\n",
    "    (\"POST /api/weather\", \"Weather information\"),\n",
    "    (\"POST /api/search\", \"Search functionality\")\n",
    "]\n",
    "\n",
    "for i, (endpoint, description) in enumerate(test_results, 1):\n",
    "    print(f\"  {i}. ✅ {endpoint} - {description}\")\n",
    "\n",
    "print(\"\\n🔧 Configuration Used:\")\n",
    "print(f\"  - Base URL: {BASE_URL}\")\n",
    "print(f\"  - Headers: {HEADERS}\")\n",
    "print(f\"  - Timeout: 30 seconds\")\n",
    "\n",
    "print(\"\\n📊 Performance Summary:\")\n",
    "if 'df_performance' in locals():\n",
    "    print(f\"  - Average Response Time: {df_performance['avg_time'].mean():.2f}s\")\n",
    "    print(f\"  - Fastest Endpoint: {df_performance.loc[df_performance['avg_time'].idxmin(), 'endpoint']}\")\n",
    "    print(f\"  - Slowest Endpoint: {df_performance.loc[df_performance['avg_time'].idxmax(), 'endpoint']}\")\n",
    "\n",
    "print(\"\\n✨ Testing completed successfully!\")\n",
    "print(\"📋 All API endpoints tested with both Thai and English data\")\n",
    "print(\"🚀 Ready for production deployment!\")"
   ]
  },
  {
   "cell_type": "markdown",
   "metadata": {},
   "source": [
    "## 🔧 Troubleshooting การแก้ไขปัญหา\n",
    "\n",
    "หากพบปัญหาในการทดสอบ API / If you encounter issues with API testing:\n",
    "\n",
    "### 🚨 Common Issues ปัญหาที่พบบ่อย:\n",
    "\n",
    "1. **Connection Error**:\n",
    "   - ตรวจสอบ `BASE_URL` ว่าถูกต้อง / Check if `BASE_URL` is correct\n",
    "   - ตรวจสอบการเชื่อมต่ออินเทอร์เน็ต / Check internet connection\n",
    "   - ตรวจสอบว่า API server ทำงาน / Verify API server is running\n",
    "\n",
    "2. **404 Not Found**:\n",
    "   - API endpoint อาจไม่มีอยู่จริง / API endpoint may not exist\n",
    "   - ตรวจสอบ URL path / Check URL path\n",
    "\n",
    "3. **500 Internal Server Error**:\n",
    "   - ปัญหาจาก server side / Server-side issue\n",
    "   - ตรวจสอบ payload format / Check payload format\n",
    "\n",
    "4. **Timeout Error**:\n",
    "   - เพิ่มค่า timeout / Increase timeout value\n",
    "   - API อาจตอบสนองช้า / API may be slow\n",
    "\n",
    "### 🛠️ Debug Steps:\n",
    "\n",
    "1. ตรวจสอบ API documentation\n",
    "2. ทดสอบด้วย Postman หรือ curl\n",
    "3. ตรวจสอบ network logs\n",
    "4. ติดต่อ API administrator"
   ]
  }
 ],
 "metadata": {
  "kernelspec": {
   "display_name": "Python 3",
   "language": "python",
   "name": "python3"
  },
  "language_info": {
   "codemirror_mode": {
    "name": "ipython",
    "version": 3
   },
   "file_extension": ".py",
   "mimetype": "text/x-python",
   "name": "python",
   "nbconvert_exporter": "python",
   "pygments_lexer": "ipython3",
   "version": "3.8.5"
  }
 },
 "nbformat": 4,
 "nbformat_minor": 4
}